{
 "cells": [
  {
   "cell_type": "markdown",
   "id": "05d101ae",
   "metadata": {},
   "source": [
    "Let’s start the task of Covid-19 impacts analysis by importing the necessary Python libraries and the dataset:"
   ]
  },
  {
   "cell_type": "code",
   "execution_count": 2,
   "id": "69a04936",
   "metadata": {},
   "outputs": [
    {
     "name": "stdout",
     "output_type": "stream",
     "text": [
      "      CODE      COUNTRY        DATE    HDI        TC        TD       STI  \\\n",
      "0      AFG  Afghanistan  2019-12-31  0.498  0.000000  0.000000  0.000000   \n",
      "1      AFG  Afghanistan  2020-01-01  0.498  0.000000  0.000000  0.000000   \n",
      "2      AFG  Afghanistan  2020-01-02  0.498  0.000000  0.000000  0.000000   \n",
      "3      AFG  Afghanistan  2020-01-03  0.498  0.000000  0.000000  0.000000   \n",
      "4      AFG  Afghanistan  2020-01-04  0.498  0.000000  0.000000  0.000000   \n",
      "...    ...          ...         ...    ...       ...       ...       ...   \n",
      "50413  ZWE     Zimbabwe  2020-10-15  0.535  8.994048  5.442418  4.341855   \n",
      "50414  ZWE     Zimbabwe  2020-10-16  0.535  8.996528  5.442418  4.341855   \n",
      "50415  ZWE     Zimbabwe  2020-10-17  0.535  8.999496  5.442418  4.341855   \n",
      "50416  ZWE     Zimbabwe  2020-10-18  0.535  9.000853  5.442418  4.341855   \n",
      "50417  ZWE     Zimbabwe  2020-10-19  0.535  9.005405  5.442418  4.341855   \n",
      "\n",
      "             POP    GDPCAP  \n",
      "0      17.477233  7.497754  \n",
      "1      17.477233  7.497754  \n",
      "2      17.477233  7.497754  \n",
      "3      17.477233  7.497754  \n",
      "4      17.477233  7.497754  \n",
      "...          ...       ...  \n",
      "50413  16.514381  7.549491  \n",
      "50414  16.514381  7.549491  \n",
      "50415  16.514381  7.549491  \n",
      "50416  16.514381  7.549491  \n",
      "50417  16.514381  7.549491  \n",
      "\n",
      "[50418 rows x 9 columns]\n"
     ]
    }
   ],
   "source": [
    "import pandas as pd\n",
    "import plotly.express as px\n",
    "import plotly.graph_objects as go\n",
    "\n",
    "data = pd.read_csv(\"transformed_data.csv\")\n",
    "data2 = pd.read_csv(\"raw_data.csv\")\n",
    "print(data)"
   ]
  },
  {
   "cell_type": "code",
   "execution_count": 3,
   "id": "9b1e0a68",
   "metadata": {},
   "outputs": [
    {
     "name": "stdout",
     "output_type": "stream",
     "text": [
      "      iso_code     location        date  total_cases  total_deaths  \\\n",
      "0          AFG  Afghanistan  2019-12-31          0.0           0.0   \n",
      "1          AFG  Afghanistan  2020-01-01          0.0           0.0   \n",
      "2          AFG  Afghanistan  2020-01-02          0.0           0.0   \n",
      "3          AFG  Afghanistan  2020-01-03          0.0           0.0   \n",
      "4          AFG  Afghanistan  2020-01-04          0.0           0.0   \n",
      "...        ...          ...         ...          ...           ...   \n",
      "50413      ZWE     Zimbabwe  2020-10-15       8055.0         231.0   \n",
      "50414      ZWE     Zimbabwe  2020-10-16       8075.0         231.0   \n",
      "50415      ZWE     Zimbabwe  2020-10-17       8099.0         231.0   \n",
      "50416      ZWE     Zimbabwe  2020-10-18       8110.0         231.0   \n",
      "50417      ZWE     Zimbabwe  2020-10-19       8147.0         231.0   \n",
      "\n",
      "       stringency_index  population  gdp_per_capita  human_development_index  \\\n",
      "0                  0.00    38928341        1803.987                    0.498   \n",
      "1                  0.00    38928341        1803.987                    0.498   \n",
      "2                  0.00    38928341        1803.987                    0.498   \n",
      "3                  0.00    38928341        1803.987                    0.498   \n",
      "4                  0.00    38928341        1803.987                    0.498   \n",
      "...                 ...         ...             ...                      ...   \n",
      "50413             76.85    14862927        1899.775                    0.535   \n",
      "50414             76.85    14862927        1899.775                    0.535   \n",
      "50415             76.85    14862927        1899.775                    0.535   \n",
      "50416             76.85    14862927        1899.775                    0.535   \n",
      "50417             76.85    14862927        1899.775                    0.535   \n",
      "\n",
      "        Unnamed: 9  Unnamed: 10 Unnamed: 11  Unnamed: 12  Unnamed: 13  \n",
      "0            #NUM!        #NUM!       #NUM!    17.477233  7.497754494  \n",
      "1            #NUM!        #NUM!       #NUM!    17.477233  7.497754494  \n",
      "2            #NUM!        #NUM!       #NUM!    17.477233  7.497754494  \n",
      "3            #NUM!        #NUM!       #NUM!    17.477233  7.497754494  \n",
      "4            #NUM!        #NUM!       #NUM!    17.477233  7.497754494  \n",
      "...            ...          ...         ...          ...          ...  \n",
      "50413  8.994048296  5.442417711  4.34185547    16.514381  7.549490737  \n",
      "50414  8.996528148  5.442417711  4.34185547    16.514381  7.549490737  \n",
      "50415  8.999495876  5.442417711  4.34185547    16.514381  7.549490737  \n",
      "50416  9.000853147  5.442417711  4.34185547    16.514381  7.549490737  \n",
      "50417   9.00540504  5.442417711  4.34185547    16.514381  7.549490737  \n",
      "\n",
      "[50418 rows x 14 columns]\n"
     ]
    }
   ],
   "source": [
    "print(data2)"
   ]
  },
  {
   "cell_type": "code",
   "execution_count": 4,
   "id": "cc249858",
   "metadata": {},
   "outputs": [
    {
     "name": "stdout",
     "output_type": "stream",
     "text": [
      "  CODE      COUNTRY        DATE    HDI   TC   TD  STI        POP    GDPCAP\n",
      "0  AFG  Afghanistan  2019-12-31  0.498  0.0  0.0  0.0  17.477233  7.497754\n",
      "1  AFG  Afghanistan  2020-01-01  0.498  0.0  0.0  0.0  17.477233  7.497754\n",
      "2  AFG  Afghanistan  2020-01-02  0.498  0.0  0.0  0.0  17.477233  7.497754\n",
      "3  AFG  Afghanistan  2020-01-03  0.498  0.0  0.0  0.0  17.477233  7.497754\n",
      "4  AFG  Afghanistan  2020-01-04  0.498  0.0  0.0  0.0  17.477233  7.497754\n"
     ]
    }
   ],
   "source": [
    "print(data.head())"
   ]
  },
  {
   "cell_type": "code",
   "execution_count": 5,
   "id": "55dfe701",
   "metadata": {},
   "outputs": [
    {
     "name": "stdout",
     "output_type": "stream",
     "text": [
      "  iso_code     location        date  total_cases  total_deaths  \\\n",
      "0      AFG  Afghanistan  2019-12-31          0.0           0.0   \n",
      "1      AFG  Afghanistan  2020-01-01          0.0           0.0   \n",
      "2      AFG  Afghanistan  2020-01-02          0.0           0.0   \n",
      "3      AFG  Afghanistan  2020-01-03          0.0           0.0   \n",
      "4      AFG  Afghanistan  2020-01-04          0.0           0.0   \n",
      "\n",
      "   stringency_index  population  gdp_per_capita  human_development_index  \\\n",
      "0               0.0    38928341        1803.987                    0.498   \n",
      "1               0.0    38928341        1803.987                    0.498   \n",
      "2               0.0    38928341        1803.987                    0.498   \n",
      "3               0.0    38928341        1803.987                    0.498   \n",
      "4               0.0    38928341        1803.987                    0.498   \n",
      "\n",
      "  Unnamed: 9 Unnamed: 10 Unnamed: 11  Unnamed: 12  Unnamed: 13  \n",
      "0      #NUM!       #NUM!       #NUM!    17.477233  7.497754494  \n",
      "1      #NUM!       #NUM!       #NUM!    17.477233  7.497754494  \n",
      "2      #NUM!       #NUM!       #NUM!    17.477233  7.497754494  \n",
      "3      #NUM!       #NUM!       #NUM!    17.477233  7.497754494  \n",
      "4      #NUM!       #NUM!       #NUM!    17.477233  7.497754494  \n"
     ]
    }
   ],
   "source": [
    "print(data2.head())"
   ]
  },
  {
   "cell_type": "code",
   "execution_count": 41,
   "id": "45151e75",
   "metadata": {},
   "outputs": [
    {
     "data": {
      "text/plain": [
       "0    294\n",
       "dtype: int64"
      ]
     },
     "execution_count": 41,
     "metadata": {},
     "output_type": "execute_result"
    }
   ],
   "source": [
    "data['COUNTRY'].value_counts().mode()"
   ]
  },
  {
   "cell_type": "code",
   "execution_count": 14,
   "id": "9fde5161",
   "metadata": {},
   "outputs": [
    {
     "data": {
      "text/plain": [
       "0    294\n",
       "dtype: int64"
      ]
     },
     "execution_count": 14,
     "metadata": {},
     "output_type": "execute_result"
    }
   ],
   "source": [
    "data2['location'].value_counts().mode()"
   ]
  },
  {
   "cell_type": "code",
   "execution_count": 24,
   "id": "775d1ecc",
   "metadata": {},
   "outputs": [],
   "source": [
    "# Aggregating the data\n",
    "\n",
    "code = data[\"CODE\"].unique().tolist()\n",
    "country = data[\"COUNTRY\"].unique().tolist()\n",
    "hdi = []\n",
    "tc = []\n",
    "td = []\n",
    "sti = []\n",
    "population = data[\"POP\"].unique().tolist()\n",
    "gdp = []"
   ]
  },
  {
   "cell_type": "code",
   "execution_count": 23,
   "id": "7ae5503f",
   "metadata": {},
   "outputs": [
    {
     "data": {
      "text/plain": [
       "50418"
      ]
     },
     "execution_count": 23,
     "metadata": {},
     "output_type": "execute_result"
    }
   ],
   "source": [
    "len(data)"
   ]
  },
  {
   "cell_type": "code",
   "execution_count": 25,
   "id": "f7394e7d",
   "metadata": {},
   "outputs": [],
   "source": [
    "for i in country:\n",
    "    hdi.append((data.loc[data[\"COUNTRY\"] == i, \"HDI\"]).sum()/294)\n",
    "    tc.append((data2.loc[data2[\"location\"] == i, \"total_cases\"]).sum())\n",
    "    td.append((data2.loc[data2[\"location\"] == i, \"total_deaths\"]).sum())\n",
    "    sti.append((data.loc[data[\"COUNTRY\"] == i, \"STI\"]).sum()/294)\n",
    "    population.append((data2.loc[data2[\"location\"] == i, \"population\"]).sum()/294)"
   ]
  },
  {
   "cell_type": "code",
   "execution_count": 39,
   "id": "cb62ea6a",
   "metadata": {},
   "outputs": [
    {
     "data": {
      "text/plain": [
       "0      0.498\n",
       "1      0.498\n",
       "2      0.498\n",
       "3      0.498\n",
       "4      0.498\n",
       "       ...  \n",
       "289    0.498\n",
       "290    0.498\n",
       "291    0.498\n",
       "292    0.498\n",
       "293    0.498\n",
       "Name: HDI, Length: 294, dtype: float64"
      ]
     },
     "execution_count": 39,
     "metadata": {},
     "output_type": "execute_result"
    }
   ],
   "source": [
    "(data.loc[data[\"COUNTRY\"] == 'Afghanistan', \"HDI\"])"
   ]
  },
  {
   "cell_type": "code",
   "execution_count": 52,
   "id": "6faaf2aa",
   "metadata": {},
   "outputs": [
    {
     "data": {
      "text/plain": [
       "5126433.0"
      ]
     },
     "execution_count": 52,
     "metadata": {},
     "output_type": "execute_result"
    }
   ],
   "source": [
    "(data2.loc[data2[\"location\"] == 'Afghanistan', \"total_cases\"]).sum()"
   ]
  },
  {
   "cell_type": "code",
   "execution_count": 53,
   "id": "8a8ffded",
   "metadata": {},
   "outputs": [
    {
     "data": {
      "text/plain": [
       "2000.646093621"
      ]
     },
     "execution_count": 53,
     "metadata": {},
     "output_type": "execute_result"
    }
   ],
   "source": [
    "(data.loc[data[\"COUNTRY\"] == 'Afghanistan', \"TC\"]).sum()"
   ]
  },
  {
   "cell_type": "code",
   "execution_count": 59,
   "id": "4e62632d",
   "metadata": {},
   "outputs": [
    {
     "data": {
      "text/plain": [
       "0.000000     4235\n",
       "1.098612      512\n",
       "2.564949      441\n",
       "2.397895      412\n",
       "2.890372      392\n",
       "             ... \n",
       "10.028003       1\n",
       "10.045855       1\n",
       "10.104385       1\n",
       "10.123907       1\n",
       "9.005405        1\n",
       "Name: TC, Length: 19171, dtype: int64"
      ]
     },
     "execution_count": 59,
     "metadata": {},
     "output_type": "execute_result"
    }
   ],
   "source": [
    "data[\"TC\"].value_counts()"
   ]
  },
  {
   "cell_type": "code",
   "execution_count": 63,
   "id": "4df803b9",
   "metadata": {},
   "outputs": [
    {
     "data": {
      "text/plain": [
       "1.0        641\n",
       "3.0        512\n",
       "0.0        500\n",
       "13.0       441\n",
       "11.0       412\n",
       "          ... \n",
       "22652.0      1\n",
       "23060.0      1\n",
       "24450.0      1\n",
       "24932.0      1\n",
       "8147.0       1\n",
       "Name: total_cases, Length: 19172, dtype: int64"
      ]
     },
     "execution_count": 63,
     "metadata": {},
     "output_type": "execute_result"
    }
   ],
   "source": [
    "data2[\"total_cases\"].value_counts()"
   ]
  },
  {
   "cell_type": "code",
   "execution_count": 67,
   "id": "861c2010",
   "metadata": {},
   "outputs": [],
   "source": [
    "agg_data= pd.DataFrame(list(zip(code, country, hdi, tc, td, sti, population)), columns=[\"Country Code\", \"Country\", \"HDI\", \n",
    "                                          \"Total Cases\", \"Total Deaths\", \n",
    "                                          \"Stringency Index\", \"Population\"] )"
   ]
  },
  {
   "cell_type": "code",
   "execution_count": 69,
   "id": "27a8f942",
   "metadata": {},
   "outputs": [
    {
     "data": {
      "text/html": [
       "<div>\n",
       "<style scoped>\n",
       "    .dataframe tbody tr th:only-of-type {\n",
       "        vertical-align: middle;\n",
       "    }\n",
       "\n",
       "    .dataframe tbody tr th {\n",
       "        vertical-align: top;\n",
       "    }\n",
       "\n",
       "    .dataframe thead th {\n",
       "        text-align: right;\n",
       "    }\n",
       "</style>\n",
       "<table border=\"1\" class=\"dataframe\">\n",
       "  <thead>\n",
       "    <tr style=\"text-align: right;\">\n",
       "      <th></th>\n",
       "      <th>Country Code</th>\n",
       "      <th>Country</th>\n",
       "      <th>HDI</th>\n",
       "      <th>Total Cases</th>\n",
       "      <th>Total Deaths</th>\n",
       "      <th>Stringency Index</th>\n",
       "      <th>Population</th>\n",
       "    </tr>\n",
       "  </thead>\n",
       "  <tbody>\n",
       "    <tr>\n",
       "      <th>0</th>\n",
       "      <td>AFG</td>\n",
       "      <td>Afghanistan</td>\n",
       "      <td>0.498000</td>\n",
       "      <td>5126433.0</td>\n",
       "      <td>165875.0</td>\n",
       "      <td>3.049673</td>\n",
       "      <td>17.477233</td>\n",
       "    </tr>\n",
       "    <tr>\n",
       "      <th>1</th>\n",
       "      <td>ALB</td>\n",
       "      <td>Albania</td>\n",
       "      <td>0.600765</td>\n",
       "      <td>1071951.0</td>\n",
       "      <td>31056.0</td>\n",
       "      <td>3.005624</td>\n",
       "      <td>14.872537</td>\n",
       "    </tr>\n",
       "    <tr>\n",
       "      <th>2</th>\n",
       "      <td>DZA</td>\n",
       "      <td>Algeria</td>\n",
       "      <td>0.754000</td>\n",
       "      <td>4893999.0</td>\n",
       "      <td>206429.0</td>\n",
       "      <td>3.195168</td>\n",
       "      <td>17.596309</td>\n",
       "    </tr>\n",
       "    <tr>\n",
       "      <th>3</th>\n",
       "      <td>AND</td>\n",
       "      <td>Andorra</td>\n",
       "      <td>0.659551</td>\n",
       "      <td>223576.0</td>\n",
       "      <td>9850.0</td>\n",
       "      <td>2.677654</td>\n",
       "      <td>11.254996</td>\n",
       "    </tr>\n",
       "    <tr>\n",
       "      <th>4</th>\n",
       "      <td>AGO</td>\n",
       "      <td>Angola</td>\n",
       "      <td>0.418952</td>\n",
       "      <td>304005.0</td>\n",
       "      <td>11820.0</td>\n",
       "      <td>2.965560</td>\n",
       "      <td>17.307957</td>\n",
       "    </tr>\n",
       "  </tbody>\n",
       "</table>\n",
       "</div>"
      ],
      "text/plain": [
       "  Country Code      Country       HDI  Total Cases  Total Deaths  \\\n",
       "0          AFG  Afghanistan  0.498000    5126433.0      165875.0   \n",
       "1          ALB      Albania  0.600765    1071951.0       31056.0   \n",
       "2          DZA      Algeria  0.754000    4893999.0      206429.0   \n",
       "3          AND      Andorra  0.659551     223576.0        9850.0   \n",
       "4          AGO       Angola  0.418952     304005.0       11820.0   \n",
       "\n",
       "   Stringency Index  Population  \n",
       "0          3.049673   17.477233  \n",
       "1          3.005624   14.872537  \n",
       "2          3.195168   17.596309  \n",
       "3          2.677654   11.254996  \n",
       "4          2.965560   17.307957  "
      ]
     },
     "execution_count": 69,
     "metadata": {},
     "output_type": "execute_result"
    }
   ],
   "source": [
    "agg_data.head()"
   ]
  },
  {
   "cell_type": "markdown",
   "id": "f32aaa61",
   "metadata": {},
   "source": [
    "I have not included the GDP per capita column yet. I didn’t find the correct figures for GDP per capita in the dataset. So it will be better to manually collect the data about the GDP per capita of the countries.\n",
    "\n",
    "As we have so many countries in this data, it will not be easy to manually collect the data about the GDP per capita of all the countries. So let’s select a subsample from this dataset. To create a subsample from this dataset, I will be selecting the top 10 countries with the highest number of covid-19 cases. It will be a perfect sample to study the economic impacts of covid-19. So let’s sort the data according to the total cases of Covid-19:"
   ]
  },
  {
   "cell_type": "code",
   "execution_count": 72,
   "id": "00275974",
   "metadata": {},
   "outputs": [],
   "source": [
    "sorted_data=agg_data.sort_values(by =[\"Total Cases\"], ascending= False)"
   ]
  },
  {
   "cell_type": "code",
   "execution_count": null,
   "id": "6648dec1",
   "metadata": {},
   "outputs": [],
   "source": []
  }
 ],
 "metadata": {
  "kernelspec": {
   "display_name": "Python 3 (ipykernel)",
   "language": "python",
   "name": "python3"
  },
  "language_info": {
   "codemirror_mode": {
    "name": "ipython",
    "version": 3
   },
   "file_extension": ".py",
   "mimetype": "text/x-python",
   "name": "python",
   "nbconvert_exporter": "python",
   "pygments_lexer": "ipython3",
   "version": "3.9.7"
  }
 },
 "nbformat": 4,
 "nbformat_minor": 5
}
